{
  "cells": [
    {
      "cell_type": "markdown",
      "id": "52824b89-532a-4e54-87e9-1410813cd39e",
      "metadata": {
        "id": "52824b89-532a-4e54-87e9-1410813cd39e"
      },
      "source": [
        "# Lab | Chains in LangChain\n",
        "\n",
        "## Outline\n",
        "\n",
        "* LLMChain\n",
        "* Sequential Chains\n",
        "  * SimpleSequentialChain\n",
        "  * SequentialChain\n",
        "* Router Chain"
      ]
    },
    {
      "cell_type": "code",
      "execution_count": 1,
      "id": "541eb2f1",
      "metadata": {
        "id": "541eb2f1"
      },
      "outputs": [],
      "source": [
        "import warnings\n",
        "warnings.filterwarnings('ignore')"
      ]
    },
    {
      "cell_type": "code",
      "execution_count": 2,
      "id": "b7ed03ed-1322-49e3-b2a2-33e94fb592ef",
      "metadata": {
        "tags": [],
        "id": "b7ed03ed-1322-49e3-b2a2-33e94fb592ef"
      },
      "outputs": [],
      "source": [
        "# import os\n",
        "\n",
        "# from dotenv import load_dotenv, find_dotenv\n",
        "# _ = load_dotenv(find_dotenv())\n",
        "from google.colab import userdata\n",
        "\n",
        "OPENAI_API_KEY  = userdata.get('Ironhack-GPT')\n",
        "HUGGINGFACEHUB_API_TOKEN = userdata.get('HF')"
      ]
    },
    {
      "cell_type": "code",
      "execution_count": null,
      "id": "b84e441b",
      "metadata": {
        "tags": [],
        "id": "b84e441b"
      },
      "outputs": [],
      "source": [
        "#!pip install pandas"
      ]
    },
    {
      "cell_type": "code",
      "execution_count": 6,
      "id": "974acf8e-8f88-42de-88f8-40a82cb58e8b",
      "metadata": {
        "tags": [],
        "id": "974acf8e-8f88-42de-88f8-40a82cb58e8b"
      },
      "outputs": [],
      "source": [
        "import pandas as pd\n",
        "df = pd.read_csv('/content/Data.csv')"
      ]
    },
    {
      "cell_type": "code",
      "execution_count": null,
      "id": "b7a09c35",
      "metadata": {
        "tags": [],
        "id": "b7a09c35",
        "outputId": "0e2a4b7e-cedf-404b-b9fe-1687ae135cf0"
      },
      "outputs": [
        {
          "data": {
            "text/html": [
              "<div>\n",
              "<style scoped>\n",
              "    .dataframe tbody tr th:only-of-type {\n",
              "        vertical-align: middle;\n",
              "    }\n",
              "\n",
              "    .dataframe tbody tr th {\n",
              "        vertical-align: top;\n",
              "    }\n",
              "\n",
              "    .dataframe thead th {\n",
              "        text-align: right;\n",
              "    }\n",
              "</style>\n",
              "<table border=\"1\" class=\"dataframe\">\n",
              "  <thead>\n",
              "    <tr style=\"text-align: right;\">\n",
              "      <th></th>\n",
              "      <th>Product</th>\n",
              "      <th>Review</th>\n",
              "    </tr>\n",
              "  </thead>\n",
              "  <tbody>\n",
              "    <tr>\n",
              "      <th>0</th>\n",
              "      <td>Queen Size Sheet Set</td>\n",
              "      <td>I ordered a king size set. My only criticism w...</td>\n",
              "    </tr>\n",
              "    <tr>\n",
              "      <th>1</th>\n",
              "      <td>Waterproof Phone Pouch</td>\n",
              "      <td>I loved the waterproof sac, although the openi...</td>\n",
              "    </tr>\n",
              "    <tr>\n",
              "      <th>2</th>\n",
              "      <td>Luxury Air Mattress</td>\n",
              "      <td>This mattress had a small hole in the top of i...</td>\n",
              "    </tr>\n",
              "    <tr>\n",
              "      <th>3</th>\n",
              "      <td>Pillows Insert</td>\n",
              "      <td>This is the best throw pillow fillers on Amazo...</td>\n",
              "    </tr>\n",
              "    <tr>\n",
              "      <th>4</th>\n",
              "      <td>Milk Frother Handheld\\n</td>\n",
              "      <td>I loved this product. But they only seem to l...</td>\n",
              "    </tr>\n",
              "  </tbody>\n",
              "</table>\n",
              "</div>"
            ],
            "text/plain": [
              "                   Product                                             Review\n",
              "0     Queen Size Sheet Set  I ordered a king size set. My only criticism w...\n",
              "1   Waterproof Phone Pouch  I loved the waterproof sac, although the openi...\n",
              "2      Luxury Air Mattress  This mattress had a small hole in the top of i...\n",
              "3           Pillows Insert  This is the best throw pillow fillers on Amazo...\n",
              "4  Milk Frother Handheld\\n   I loved this product. But they only seem to l..."
            ]
          },
          "execution_count": 15,
          "metadata": {},
          "output_type": "execute_result"
        }
      ],
      "source": [
        "df.head()"
      ]
    },
    {
      "cell_type": "markdown",
      "id": "b940ce7c",
      "metadata": {
        "id": "b940ce7c"
      },
      "source": [
        "## LLMChain"
      ]
    },
    {
      "cell_type": "code",
      "execution_count": 10,
      "id": "e92dff22",
      "metadata": {
        "tags": [],
        "colab": {
          "base_uri": "https://localhost:8080/"
        },
        "id": "e92dff22",
        "outputId": "19499eae-343a-41b2-eedc-e801f9731063"
      },
      "outputs": [
        {
          "output_type": "stream",
          "name": "stdout",
          "text": [
            "Requirement already satisfied: langchain_openai in /usr/local/lib/python3.10/dist-packages (0.1.13)\n",
            "Requirement already satisfied: langchain-core<0.3,>=0.2.2 in /usr/local/lib/python3.10/dist-packages (from langchain_openai) (0.2.10)\n",
            "Requirement already satisfied: openai<2.0.0,>=1.32.0 in /usr/local/lib/python3.10/dist-packages (from langchain_openai) (1.35.7)\n",
            "Requirement already satisfied: tiktoken<1,>=0.7 in /usr/local/lib/python3.10/dist-packages (from langchain_openai) (0.7.0)\n",
            "Requirement already satisfied: PyYAML>=5.3 in /usr/local/lib/python3.10/dist-packages (from langchain-core<0.3,>=0.2.2->langchain_openai) (6.0.1)\n",
            "Requirement already satisfied: jsonpatch<2.0,>=1.33 in /usr/local/lib/python3.10/dist-packages (from langchain-core<0.3,>=0.2.2->langchain_openai) (1.33)\n",
            "Requirement already satisfied: langsmith<0.2.0,>=0.1.75 in /usr/local/lib/python3.10/dist-packages (from langchain-core<0.3,>=0.2.2->langchain_openai) (0.1.82)\n",
            "Requirement already satisfied: packaging<25,>=23.2 in /usr/local/lib/python3.10/dist-packages (from langchain-core<0.3,>=0.2.2->langchain_openai) (24.1)\n",
            "Requirement already satisfied: pydantic<3,>=1 in /usr/local/lib/python3.10/dist-packages (from langchain-core<0.3,>=0.2.2->langchain_openai) (2.7.4)\n",
            "Requirement already satisfied: tenacity!=8.4.0,<9.0.0,>=8.1.0 in /usr/local/lib/python3.10/dist-packages (from langchain-core<0.3,>=0.2.2->langchain_openai) (8.4.1)\n",
            "Requirement already satisfied: anyio<5,>=3.5.0 in /usr/local/lib/python3.10/dist-packages (from openai<2.0.0,>=1.32.0->langchain_openai) (3.7.1)\n",
            "Requirement already satisfied: distro<2,>=1.7.0 in /usr/lib/python3/dist-packages (from openai<2.0.0,>=1.32.0->langchain_openai) (1.7.0)\n",
            "Requirement already satisfied: httpx<1,>=0.23.0 in /usr/local/lib/python3.10/dist-packages (from openai<2.0.0,>=1.32.0->langchain_openai) (0.27.0)\n",
            "Requirement already satisfied: sniffio in /usr/local/lib/python3.10/dist-packages (from openai<2.0.0,>=1.32.0->langchain_openai) (1.3.1)\n",
            "Requirement already satisfied: tqdm>4 in /usr/local/lib/python3.10/dist-packages (from openai<2.0.0,>=1.32.0->langchain_openai) (4.66.4)\n",
            "Requirement already satisfied: typing-extensions<5,>=4.7 in /usr/local/lib/python3.10/dist-packages (from openai<2.0.0,>=1.32.0->langchain_openai) (4.12.2)\n",
            "Requirement already satisfied: regex>=2022.1.18 in /usr/local/lib/python3.10/dist-packages (from tiktoken<1,>=0.7->langchain_openai) (2024.5.15)\n",
            "Requirement already satisfied: requests>=2.26.0 in /usr/local/lib/python3.10/dist-packages (from tiktoken<1,>=0.7->langchain_openai) (2.31.0)\n",
            "Requirement already satisfied: idna>=2.8 in /usr/local/lib/python3.10/dist-packages (from anyio<5,>=3.5.0->openai<2.0.0,>=1.32.0->langchain_openai) (3.7)\n",
            "Requirement already satisfied: exceptiongroup in /usr/local/lib/python3.10/dist-packages (from anyio<5,>=3.5.0->openai<2.0.0,>=1.32.0->langchain_openai) (1.2.1)\n",
            "Requirement already satisfied: certifi in /usr/local/lib/python3.10/dist-packages (from httpx<1,>=0.23.0->openai<2.0.0,>=1.32.0->langchain_openai) (2024.6.2)\n",
            "Requirement already satisfied: httpcore==1.* in /usr/local/lib/python3.10/dist-packages (from httpx<1,>=0.23.0->openai<2.0.0,>=1.32.0->langchain_openai) (1.0.5)\n",
            "Requirement already satisfied: h11<0.15,>=0.13 in /usr/local/lib/python3.10/dist-packages (from httpcore==1.*->httpx<1,>=0.23.0->openai<2.0.0,>=1.32.0->langchain_openai) (0.14.0)\n",
            "Requirement already satisfied: jsonpointer>=1.9 in /usr/local/lib/python3.10/dist-packages (from jsonpatch<2.0,>=1.33->langchain-core<0.3,>=0.2.2->langchain_openai) (3.0.0)\n",
            "Requirement already satisfied: orjson<4.0.0,>=3.9.14 in /usr/local/lib/python3.10/dist-packages (from langsmith<0.2.0,>=0.1.75->langchain-core<0.3,>=0.2.2->langchain_openai) (3.10.5)\n",
            "Requirement already satisfied: annotated-types>=0.4.0 in /usr/local/lib/python3.10/dist-packages (from pydantic<3,>=1->langchain-core<0.3,>=0.2.2->langchain_openai) (0.7.0)\n",
            "Requirement already satisfied: pydantic-core==2.18.4 in /usr/local/lib/python3.10/dist-packages (from pydantic<3,>=1->langchain-core<0.3,>=0.2.2->langchain_openai) (2.18.4)\n",
            "Requirement already satisfied: charset-normalizer<4,>=2 in /usr/local/lib/python3.10/dist-packages (from requests>=2.26.0->tiktoken<1,>=0.7->langchain_openai) (3.3.2)\n",
            "Requirement already satisfied: urllib3<3,>=1.21.1 in /usr/local/lib/python3.10/dist-packages (from requests>=2.26.0->tiktoken<1,>=0.7->langchain_openai) (2.0.7)\n",
            "Collecting langchain\n",
            "  Downloading langchain-0.2.6-py3-none-any.whl (975 kB)\n",
            "\u001b[2K     \u001b[90m━━━━━━━━━━━━━━━━━━━━━━━━━━━━━━━━━━━━━━━━\u001b[0m \u001b[32m975.5/975.5 kB\u001b[0m \u001b[31m6.5 MB/s\u001b[0m eta \u001b[36m0:00:00\u001b[0m\n",
            "\u001b[?25hRequirement already satisfied: PyYAML>=5.3 in /usr/local/lib/python3.10/dist-packages (from langchain) (6.0.1)\n",
            "Requirement already satisfied: SQLAlchemy<3,>=1.4 in /usr/local/lib/python3.10/dist-packages (from langchain) (2.0.31)\n",
            "Requirement already satisfied: aiohttp<4.0.0,>=3.8.3 in /usr/local/lib/python3.10/dist-packages (from langchain) (3.9.5)\n",
            "Requirement already satisfied: async-timeout<5.0.0,>=4.0.0 in /usr/local/lib/python3.10/dist-packages (from langchain) (4.0.3)\n",
            "Requirement already satisfied: langchain-core<0.3.0,>=0.2.10 in /usr/local/lib/python3.10/dist-packages (from langchain) (0.2.10)\n",
            "Collecting langchain-text-splitters<0.3.0,>=0.2.0 (from langchain)\n",
            "  Downloading langchain_text_splitters-0.2.2-py3-none-any.whl (25 kB)\n",
            "Requirement already satisfied: langsmith<0.2.0,>=0.1.17 in /usr/local/lib/python3.10/dist-packages (from langchain) (0.1.82)\n",
            "Requirement already satisfied: numpy<2,>=1 in /usr/local/lib/python3.10/dist-packages (from langchain) (1.25.2)\n",
            "Requirement already satisfied: pydantic<3,>=1 in /usr/local/lib/python3.10/dist-packages (from langchain) (2.7.4)\n",
            "Requirement already satisfied: requests<3,>=2 in /usr/local/lib/python3.10/dist-packages (from langchain) (2.31.0)\n",
            "Requirement already satisfied: tenacity!=8.4.0,<9.0.0,>=8.1.0 in /usr/local/lib/python3.10/dist-packages (from langchain) (8.4.1)\n",
            "Requirement already satisfied: aiosignal>=1.1.2 in /usr/local/lib/python3.10/dist-packages (from aiohttp<4.0.0,>=3.8.3->langchain) (1.3.1)\n",
            "Requirement already satisfied: attrs>=17.3.0 in /usr/local/lib/python3.10/dist-packages (from aiohttp<4.0.0,>=3.8.3->langchain) (23.2.0)\n",
            "Requirement already satisfied: frozenlist>=1.1.1 in /usr/local/lib/python3.10/dist-packages (from aiohttp<4.0.0,>=3.8.3->langchain) (1.4.1)\n",
            "Requirement already satisfied: multidict<7.0,>=4.5 in /usr/local/lib/python3.10/dist-packages (from aiohttp<4.0.0,>=3.8.3->langchain) (6.0.5)\n",
            "Requirement already satisfied: yarl<2.0,>=1.0 in /usr/local/lib/python3.10/dist-packages (from aiohttp<4.0.0,>=3.8.3->langchain) (1.9.4)\n",
            "Requirement already satisfied: jsonpatch<2.0,>=1.33 in /usr/local/lib/python3.10/dist-packages (from langchain-core<0.3.0,>=0.2.10->langchain) (1.33)\n",
            "Requirement already satisfied: packaging<25,>=23.2 in /usr/local/lib/python3.10/dist-packages (from langchain-core<0.3.0,>=0.2.10->langchain) (24.1)\n",
            "Requirement already satisfied: orjson<4.0.0,>=3.9.14 in /usr/local/lib/python3.10/dist-packages (from langsmith<0.2.0,>=0.1.17->langchain) (3.10.5)\n",
            "Requirement already satisfied: annotated-types>=0.4.0 in /usr/local/lib/python3.10/dist-packages (from pydantic<3,>=1->langchain) (0.7.0)\n",
            "Requirement already satisfied: pydantic-core==2.18.4 in /usr/local/lib/python3.10/dist-packages (from pydantic<3,>=1->langchain) (2.18.4)\n",
            "Requirement already satisfied: typing-extensions>=4.6.1 in /usr/local/lib/python3.10/dist-packages (from pydantic<3,>=1->langchain) (4.12.2)\n",
            "Requirement already satisfied: charset-normalizer<4,>=2 in /usr/local/lib/python3.10/dist-packages (from requests<3,>=2->langchain) (3.3.2)\n",
            "Requirement already satisfied: idna<4,>=2.5 in /usr/local/lib/python3.10/dist-packages (from requests<3,>=2->langchain) (3.7)\n",
            "Requirement already satisfied: urllib3<3,>=1.21.1 in /usr/local/lib/python3.10/dist-packages (from requests<3,>=2->langchain) (2.0.7)\n",
            "Requirement already satisfied: certifi>=2017.4.17 in /usr/local/lib/python3.10/dist-packages (from requests<3,>=2->langchain) (2024.6.2)\n",
            "Requirement already satisfied: greenlet!=0.4.17 in /usr/local/lib/python3.10/dist-packages (from SQLAlchemy<3,>=1.4->langchain) (3.0.3)\n",
            "Requirement already satisfied: jsonpointer>=1.9 in /usr/local/lib/python3.10/dist-packages (from jsonpatch<2.0,>=1.33->langchain-core<0.3.0,>=0.2.10->langchain) (3.0.0)\n",
            "Installing collected packages: langchain-text-splitters, langchain\n",
            "Successfully installed langchain-0.2.6 langchain-text-splitters-0.2.2\n"
          ]
        }
      ],
      "source": [
        "!pip install langchain_openai\n",
        "!pip install langchain\n",
        "\n",
        "from langchain_openai import ChatOpenAI\n",
        "from langchain.prompts import ChatPromptTemplate\n",
        "from langchain.chains import LLMChain"
      ]
    },
    {
      "cell_type": "code",
      "execution_count": 32,
      "id": "943237a7",
      "metadata": {
        "id": "943237a7"
      },
      "outputs": [],
      "source": [
        "#Replace None by your own value and justify\n",
        "llm = ChatOpenAI(model_name=\"gpt-4-turbo\", api_key = OPENAI_API_KEY, temperature=0.9)"
      ]
    },
    {
      "cell_type": "code",
      "execution_count": 27,
      "id": "cdcdb42d",
      "metadata": {
        "id": "cdcdb42d"
      },
      "outputs": [],
      "source": [
        "prompt = ChatPromptTemplate.from_template( 'Write me a description on {product}'\n",
        ")"
      ]
    },
    {
      "cell_type": "code",
      "execution_count": 28,
      "id": "d7abc20b",
      "metadata": {
        "id": "d7abc20b"
      },
      "outputs": [],
      "source": [
        "chain = LLMChain(llm=llm, prompt=prompt)"
      ]
    },
    {
      "cell_type": "code",
      "execution_count": 29,
      "id": "ad44d1fb",
      "metadata": {
        "colab": {
          "base_uri": "https://localhost:8080/",
          "height": 140
        },
        "id": "ad44d1fb",
        "outputId": "f6c1801a-c00a-4efe-d22b-185786d6d025"
      },
      "outputs": [
        {
          "output_type": "execute_result",
          "data": {
            "text/plain": [
              "\"A luxury air mattress elevates the traditional concept of an inflatable bed by combining state-of-the-art technology, superior materials, and refined design to deliver an unparalleled sleep experience. Unlike standard air mattresses, a luxury model focuses intently on comfort, durability, and convenience, making it a top choice for discerning users seeking a temporary or semi-permanent sleeping solution without compromising on quality.\\n\\nThe core of a luxury air mattress lies in its sophisticated internal structure, often featuring multiple air chambers rather than a single inflatable section. These chambers are independently adjustable, allowing users to customize the firmness of the mattress according to their personal preference or even adjust different sides to different firmness levels, perfect for couples with varying comfort needs.\\n\\nCrafted from high-grade, puncture-resistant PVC or textile-reinforced urethane, these mattresses are not only tough but also designed to mimic the feel of more traditional mattresses. The surface is typically flocked, offering a soft, velvety feel that helps to keep bedding in place and provides an extra layer of insulation for warmth. Some luxury models also incorporate memory foam or gel-infused top layers that conform to the body's contours, reducing pressure points and enhancing overall sleep quality.\\n\\nConvenience features on a luxury air mattress may include built-in electric pumps that make inflation and deflation quick and effortless. These pumps can be adjusted to achieve the perfect level of firmness in minutes, and they often operate quietly to avoid disturbances. For tech-savvy users, some high-end air mattresses offer Bluetooth functionality, allowing adjustment via a smartphone app.\\n\\nAdditionally, aesthetics are not overlooked. Luxury air mattresses often boast sleek, modern designs and come in neutral colors to blend seamlessly into any decor. They are also designed for easy folding and storage, coming with durable carrying bags for enhanced portability, making them ideal for guests, travel, or temporary living arrangements.\\n\\nIn summary, a luxury air mattress is a perfect blend of functionality, comfort, and technology, designed for those who refuse to sacrifice the quality of their sleep, whether at home or on the move.\""
            ],
            "application/vnd.google.colaboratory.intrinsic+json": {
              "type": "string"
            }
          },
          "metadata": {},
          "execution_count": 29
        }
      ],
      "source": [
        "product = 'Luxury Air Mattress'\n",
        "response = chain.run(product)\n",
        "response"
      ]
    },
    {
      "cell_type": "markdown",
      "id": "69b03469",
      "metadata": {
        "id": "69b03469"
      },
      "source": [
        "## SimpleSequentialChain"
      ]
    },
    {
      "cell_type": "code",
      "execution_count": 30,
      "id": "febee243",
      "metadata": {
        "id": "febee243"
      },
      "outputs": [],
      "source": [
        "from langchain.chains import SimpleSequentialChain"
      ]
    },
    {
      "cell_type": "code",
      "execution_count": 35,
      "id": "2f31aa8a",
      "metadata": {
        "id": "2f31aa8a"
      },
      "outputs": [],
      "source": [
        "#llm = ChatOpenAI(temperature=0.9)\n",
        "\n",
        "# prompt template 1\n",
        "first_prompt = ChatPromptTemplate.from_template( 'List 3 brands that sell {product}'\n",
        ")\n",
        "\n",
        "# Chain 1\n",
        "chain_one = LLMChain(llm=llm, prompt=first_prompt)"
      ]
    },
    {
      "cell_type": "code",
      "execution_count": 36,
      "id": "3f5d5b76",
      "metadata": {
        "id": "3f5d5b76"
      },
      "outputs": [],
      "source": [
        "\n",
        "# prompt template 2\n",
        "second_prompt = ChatPromptTemplate.from_template( 'out of the {output}, list 5 other products these brands sell'\n",
        ")\n",
        "# chain 2\n",
        "chain_two = LLMChain(llm=llm, prompt=second_prompt)"
      ]
    },
    {
      "cell_type": "code",
      "execution_count": 37,
      "id": "6c1eb2c4",
      "metadata": {
        "id": "6c1eb2c4"
      },
      "outputs": [],
      "source": [
        "overall_simple_chain = SimpleSequentialChain(chains=[chain_one, chain_two],\n",
        "                                             verbose=True\n",
        "                                            )"
      ]
    },
    {
      "cell_type": "code",
      "execution_count": 38,
      "id": "78458efe",
      "metadata": {
        "colab": {
          "base_uri": "https://localhost:8080/",
          "height": 819
        },
        "id": "78458efe",
        "outputId": "d8c4aaa6-b72a-4ef3-e366-0abade9d098a"
      },
      "outputs": [
        {
          "output_type": "stream",
          "name": "stdout",
          "text": [
            "\n",
            "\n",
            "\u001b[1m> Entering new SimpleSequentialChain chain...\u001b[0m\n",
            "\u001b[36;1m\u001b[1;3mAs of my last update, there are specific brands known for their high-end or luxury air mattresses that often include features like adjustable firmness, built-in pumps, and superior materials. Three brands that sell luxury air mattresses include:\n",
            "\n",
            "1. **Serta** - Known for both innerspring and foam mattresses, Serta also offers air mattresses that are considered high quality with features like neverFLAT pump technology, which helps maintain air pressure throughout the night.\n",
            "\n",
            "2. **SoundAsleep** - While perhaps not traditionally \"luxury\" in the classic sense, SoundAsleep's Dream Series air mattress is often praised for its comfort and durability, making it a premium choice in the air mattress category.\n",
            "\n",
            "3. **Intex** - Offers a range of air mattresses, including higher-end models like the Ultra Plush Airbed, which features a built-in pump and a design focused on providing a luxurious sleeping experience.\n",
            "\n",
            "These brands are known for their reliability and comfort, making them popular choices for luxury air mattresses.\u001b[0m\n",
            "\u001b[33;1m\u001b[1;3mEach of these brands, known for their air mattresses, also offers a variety of other sleep-related products that cater to diverse customer needs. Here are some additional products sold by Serta, SoundAsleep, and Intex:\n",
            "\n",
            "### Serta\n",
            "1. **Memory Foam Mattresses** - These mattresses include multiple layers of foam that contour to the body to reduce pressure points and provide support.\n",
            "2. **Hybrid Mattresses** - Combining innerspring coils with memory foam, these mattresses offer a balance of comfort and support.\n",
            "3. **Bed Frames** - Serta sells various bed frames that are designed to support their mattresses optimally.\n",
            "4. **Pillows** - They offer a range of pillows in different materials and firmness levels to complement their mattresses.\n",
            "5. **Adjustable Foundations** - These allow users to adjust the position of their mattress for optimal comfort and support, beneficial for reading, watching TV, or sleeping.\n",
            "\n",
            "### SoundAsleep\n",
            "1. **Camping Series Air Mattresses** - Designed specifically for outdoor use, these have features like extra thick material for durability and are battery-operated.\n",
            "2. **Twin Size Air Mattresses** - Similar in quality to their larger mattresses but in a smaller, more convenient size for single users or smaller spaces.\n",
            "3. **Kids Air Mattresses** - These are smaller and often include safety bumpers around the edges to protect children from falling out of bed.\n",
            "4. **Air Mattress Repair Kits** - Kits that include patches and adhesive to repair punctures in air mattresses.\n",
            "5. **Pumps** - Standalone pumps that can be used to inflate SoundAsleep air mattresses if the included pump is lost or malfunctions.\n",
            "\n",
            "### Intex\n",
            "1. **Swimming Pools** - Intex is well-known for their range of above-ground swimming pools, from small inflatable pools to large frame pools suitable for the entire family.\n",
            "2. **Pool Accessories** - Including ladders, pool covers, ground cloths, and maintenance kits.\n",
            "3. **Spas** - Portable inflatable hot tubs that offer relaxation and comfort similar to permanent fixtures.\n",
            "4. **Floats and Toys** - A variety of inflatable products for pool and beach use, including ride-ons, loungers, and beach balls.\n",
            "5. **Boats and Kayaks** - Inflatable boats and kayaks for recreational use on lakes and calm rivers, with options ranging from one-person kayaks to larger boats suitable for fishing or leisure outings.\n",
            "\n",
            "These additional products underline each brand's commitment to quality and innovation in their respective areas of expertise, beyond just air mattresses.\u001b[0m\n",
            "\n",
            "\u001b[1m> Finished chain.\u001b[0m\n"
          ]
        },
        {
          "output_type": "execute_result",
          "data": {
            "text/plain": [
              "\"Each of these brands, known for their air mattresses, also offers a variety of other sleep-related products that cater to diverse customer needs. Here are some additional products sold by Serta, SoundAsleep, and Intex:\\n\\n### Serta\\n1. **Memory Foam Mattresses** - These mattresses include multiple layers of foam that contour to the body to reduce pressure points and provide support.\\n2. **Hybrid Mattresses** - Combining innerspring coils with memory foam, these mattresses offer a balance of comfort and support.\\n3. **Bed Frames** - Serta sells various bed frames that are designed to support their mattresses optimally.\\n4. **Pillows** - They offer a range of pillows in different materials and firmness levels to complement their mattresses.\\n5. **Adjustable Foundations** - These allow users to adjust the position of their mattress for optimal comfort and support, beneficial for reading, watching TV, or sleeping.\\n\\n### SoundAsleep\\n1. **Camping Series Air Mattresses** - Designed specifically for outdoor use, these have features like extra thick material for durability and are battery-operated.\\n2. **Twin Size Air Mattresses** - Similar in quality to their larger mattresses but in a smaller, more convenient size for single users or smaller spaces.\\n3. **Kids Air Mattresses** - These are smaller and often include safety bumpers around the edges to protect children from falling out of bed.\\n4. **Air Mattress Repair Kits** - Kits that include patches and adhesive to repair punctures in air mattresses.\\n5. **Pumps** - Standalone pumps that can be used to inflate SoundAsleep air mattresses if the included pump is lost or malfunctions.\\n\\n### Intex\\n1. **Swimming Pools** - Intex is well-known for their range of above-ground swimming pools, from small inflatable pools to large frame pools suitable for the entire family.\\n2. **Pool Accessories** - Including ladders, pool covers, ground cloths, and maintenance kits.\\n3. **Spas** - Portable inflatable hot tubs that offer relaxation and comfort similar to permanent fixtures.\\n4. **Floats and Toys** - A variety of inflatable products for pool and beach use, including ride-ons, loungers, and beach balls.\\n5. **Boats and Kayaks** - Inflatable boats and kayaks for recreational use on lakes and calm rivers, with options ranging from one-person kayaks to larger boats suitable for fishing or leisure outings.\\n\\nThese additional products underline each brand's commitment to quality and innovation in their respective areas of expertise, beyond just air mattresses.\""
            ],
            "application/vnd.google.colaboratory.intrinsic+json": {
              "type": "string"
            }
          },
          "metadata": {},
          "execution_count": 38
        }
      ],
      "source": [
        "overall_simple_chain.run(product)"
      ]
    },
    {
      "cell_type": "markdown",
      "id": "0dd59bda-9d02-44e7-b3d6-2bec61b99d8f",
      "metadata": {
        "id": "0dd59bda-9d02-44e7-b3d6-2bec61b99d8f"
      },
      "source": [
        "**Repeat the above twice for different products**"
      ]
    },
    {
      "cell_type": "markdown",
      "id": "7b5ce18c",
      "metadata": {
        "id": "7b5ce18c"
      },
      "source": [
        "## SequentialChain"
      ]
    },
    {
      "cell_type": "code",
      "execution_count": 45,
      "id": "4c129ef6",
      "metadata": {
        "id": "4c129ef6"
      },
      "outputs": [],
      "source": [
        "from langchain.chains import SequentialChain"
      ]
    },
    {
      "cell_type": "code",
      "execution_count": 48,
      "id": "016187ac",
      "metadata": {
        "id": "016187ac"
      },
      "outputs": [],
      "source": [
        "first_prompt = ChatPromptTemplate.from_template('translate {review} from english to lithuanian'\n",
        ")\n",
        "\n",
        "chain_one = LLMChain(llm=llm, prompt=first_prompt,\n",
        "                     output_key='LithuanianTranslation' #Give a name to your output\n",
        "                    )\n"
      ]
    },
    {
      "cell_type": "code",
      "execution_count": 49,
      "id": "0fb0730e",
      "metadata": {
        "id": "0fb0730e"
      },
      "outputs": [],
      "source": [
        "second_prompt = ChatPromptTemplate.from_template('summarize {LithuanianTranslation}'\n",
        ")\n",
        "\n",
        "chain_two = LLMChain(llm=llm, prompt=second_prompt,\n",
        "                     output_key='LithuanianTranslationSummary' #give a name to this output\n",
        "                    )\n"
      ]
    },
    {
      "cell_type": "code",
      "execution_count": 50,
      "id": "6accf92d",
      "metadata": {
        "id": "6accf92d"
      },
      "outputs": [],
      "source": [
        "# prompt template 3: translate to english or other language\n",
        "third_prompt = ChatPromptTemplate.from_template('translate the {LithuanianTranslationSummary} back to english'\n",
        ")\n",
        "# chain 3: input= Review and output= language\n",
        "chain_three = LLMChain(llm=llm, prompt=third_prompt,\n",
        "                       output_key=\"SummaryBackTranslation\"\n",
        "                      )\n"
      ]
    },
    {
      "cell_type": "code",
      "execution_count": 51,
      "id": "c7a46121",
      "metadata": {
        "id": "c7a46121"
      },
      "outputs": [],
      "source": [
        "\n",
        "# prompt template 4: follow up message that take as inputs the two previous prompts' variables\n",
        "fourth_prompt = ChatPromptTemplate.from_template( 'Based on the original review and the translations, write a message > Original review: {review}, Back translation: {SummaryBackTranslation}'\n",
        ")\n",
        "chain_four = LLMChain(llm=llm, prompt=fourth_prompt,\n",
        "                      output_key='Final'\n",
        "                     )\n"
      ]
    },
    {
      "cell_type": "code",
      "execution_count": 53,
      "id": "89603117",
      "metadata": {
        "id": "89603117"
      },
      "outputs": [],
      "source": [
        "# overall_chain: input= Review\n",
        "# and output= English_Review,summary, followup_message\n",
        "overall_chain = SequentialChain(\n",
        "    chains=[chain_one, chain_two, chain_three, chain_four],\n",
        "    input_variables=['review'],\n",
        "    output_variables=['LithuanianTranslation', 'LithuanianTranslationSummary', 'SummaryBackTranslation', 'Final'],\n",
        "    verbose=True\n",
        ")"
      ]
    },
    {
      "cell_type": "code",
      "execution_count": 55,
      "id": "51b04f45",
      "metadata": {
        "colab": {
          "base_uri": "https://localhost:8080/"
        },
        "id": "51b04f45",
        "outputId": "ac4fca9f-2f24-4a89-e069-dd54970c29f3"
      },
      "outputs": [
        {
          "output_type": "stream",
          "name": "stdout",
          "text": [
            "\n",
            "\n",
            "\u001b[1m> Entering new SequentialChain chain...\u001b[0m\n",
            "\n",
            "\u001b[1m> Finished chain.\u001b[0m\n"
          ]
        },
        {
          "output_type": "execute_result",
          "data": {
            "text/plain": [
              "{'review': \"Je trouve le goût médiocre. La mousse ne tient pas, c'est bizarre. J'achète les mêmes dans le commerce et le goût est bien meilleur...\\nVieux lot ou contrefaçon !?\",\n",
              " 'LithuanianTranslation': 'Aš manau, kad skonis prastas. Putos neišsilaiko, tai keista. Aš perkų tuos pačius prekyboje ir skonis yra daug geresnis... Senas siuntinys arba klastotė!?',\n",
              " 'LithuanianTranslationSummary': 'Asmens komentaras apie produktą nurodo, kad skonis yra prastas ir putos neišsilaiko, kas yra neįprasta. Taip pat minima, kad tas pats produktas, pirktas prekyboje, paprastai skonis yra geresnis. Todėl kyla abejonių, ar gautas produktas yra senas ar galbūt netikras.',\n",
              " 'SummaryBackTranslation': \"The person's comment about the product indicates that the taste is poor and the foam does not last, which is unusual. It is also mentioned that the same product, when bought in stores, usually tastes better. Therefore, there are doubts whether the received product is old or possibly counterfeit.\",\n",
              " 'Final': \"Hello,\\n\\nThank you for sharing your experience with us. We regret to hear that the product did not meet your expectations in terms of taste and foam quality. It is concerning to hear that it differed significantly from the same product you've purchased in stores. We take the authenticity and quality of our products very seriously and would like to investigate this matter further to determine if what you received was an old batch or a counterfeit.\\n\\nCould you please provide us with more details about your purchase, such as where and when it was bought? This information will help us in our investigation and in taking appropriate measures. Additionally, if possible, could you send us the lot number located on the product packaging?\\n\\nWe aim to ensure that all our customers receive products of the highest quality and authenticity, and your feedback is crucial in helping us maintain these standards. Thank you for bringing this issue to our attention.\\n\\nSincerely,\\n\\n[Your Customer Service Team]\"}"
            ]
          },
          "metadata": {},
          "execution_count": 55
        }
      ],
      "source": [
        "review = df.Review[5]\n",
        "overall_chain(review)"
      ]
    },
    {
      "cell_type": "markdown",
      "id": "3187cf07-458a-4226-bec7-3dec7ee47af2",
      "metadata": {
        "id": "3187cf07-458a-4226-bec7-3dec7ee47af2"
      },
      "source": [
        "**Repeat the above twice for different products or reviews**"
      ]
    },
    {
      "cell_type": "markdown",
      "id": "3041ea4c",
      "metadata": {
        "id": "3041ea4c"
      },
      "source": [
        "## Router Chain"
      ]
    },
    {
      "cell_type": "code",
      "execution_count": 56,
      "id": "ade83f4f",
      "metadata": {
        "id": "ade83f4f"
      },
      "outputs": [],
      "source": [
        "physics_template = \"\"\"You are a very smart physics professor. \\\n",
        "You are great at answering questions about physics in a concise\\\n",
        "and easy to understand manner. \\\n",
        "When you don't know the answer to a question you admit\\\n",
        "that you don't know.\n",
        "\n",
        "Here is a question:\n",
        "{input}\"\"\"\n",
        "\n",
        "\n",
        "math_template = \"\"\"You are a very good mathematician. \\\n",
        "You are great at answering math questions. \\\n",
        "You are so good because you are able to break down \\\n",
        "hard problems into their component parts,\n",
        "answer the component parts, and then put them together\\\n",
        "to answer the broader question.\n",
        "\n",
        "Here is a question:\n",
        "{input}\"\"\"\n",
        "\n",
        "history_template = \"\"\"You are a very good historian. \\\n",
        "You have an excellent knowledge of and understanding of people,\\\n",
        "events and contexts from a range of historical periods. \\\n",
        "You have the ability to think, reflect, debate, discuss and \\\n",
        "evaluate the past. You have a respect for historical evidence\\\n",
        "and the ability to make use of it to support your explanations \\\n",
        "and judgements.\n",
        "\n",
        "Here is a question:\n",
        "{input}\"\"\"\n",
        "\n",
        "\n",
        "computerscience_template = \"\"\" You are a successful computer scientist.\\\n",
        "You have a passion for creativity, collaboration,\\\n",
        "forward-thinking, confidence, strong problem-solving capabilities,\\\n",
        "understanding of theories and algorithms, and excellent communication \\\n",
        "skills. You are great at answering coding questions. \\\n",
        "You are so good because you know how to solve a problem by \\\n",
        "describing the solution in imperative steps \\\n",
        "that a machine can easily interpret and you know how to \\\n",
        "choose a solution that has a good balance between \\\n",
        "time complexity and space complexity.\n",
        "\n",
        "Here is a question:\n",
        "{input}\"\"\""
      ]
    },
    {
      "cell_type": "code",
      "execution_count": 57,
      "id": "5f590e9f",
      "metadata": {
        "id": "5f590e9f"
      },
      "outputs": [],
      "source": [
        "prompt_infos = [\n",
        "    {\n",
        "        \"name\": \"physics\",\n",
        "        \"description\": \"Good for answering questions about physics\",\n",
        "        \"prompt_template\": physics_template\n",
        "    },\n",
        "    {\n",
        "        \"name\": \"math\",\n",
        "        \"description\": \"Good for answering math questions\",\n",
        "        \"prompt_template\": math_template\n",
        "    },\n",
        "    {\n",
        "        \"name\": \"History\",\n",
        "        \"description\": \"Good for answering history questions\",\n",
        "        \"prompt_template\": history_template\n",
        "    },\n",
        "    {\n",
        "        \"name\": \"computer science\",\n",
        "        \"description\": \"Good for answering computer science questions\",\n",
        "        \"prompt_template\": computerscience_template\n",
        "    }\n",
        "]"
      ]
    },
    {
      "cell_type": "code",
      "execution_count": 58,
      "id": "31b06fc8",
      "metadata": {
        "id": "31b06fc8"
      },
      "outputs": [],
      "source": [
        "from langchain.chains.router import MultiPromptChain\n",
        "from langchain.chains.router.llm_router import LLMRouterChain,RouterOutputParser\n",
        "from langchain.prompts import PromptTemplate"
      ]
    },
    {
      "cell_type": "code",
      "execution_count": 60,
      "id": "f3f50bcc",
      "metadata": {
        "id": "f3f50bcc"
      },
      "outputs": [],
      "source": [
        "#llm = ChatOpenAI(temperature=0)"
      ]
    },
    {
      "cell_type": "code",
      "execution_count": 61,
      "id": "8eefec24",
      "metadata": {
        "id": "8eefec24"
      },
      "outputs": [],
      "source": [
        "destination_chains = {}\n",
        "for p_info in prompt_infos:\n",
        "    name = p_info[\"name\"]\n",
        "    prompt_template = p_info[\"prompt_template\"]\n",
        "    prompt = ChatPromptTemplate.from_template(template=prompt_template)\n",
        "    chain = LLMChain(llm=llm, prompt=prompt)\n",
        "    destination_chains[name] = chain\n",
        "\n",
        "destinations = [f\"{p['name']}: {p['description']}\" for p in prompt_infos]\n",
        "destinations_str = \"\\n\".join(destinations)"
      ]
    },
    {
      "cell_type": "code",
      "execution_count": 62,
      "id": "9f98018a",
      "metadata": {
        "id": "9f98018a"
      },
      "outputs": [],
      "source": [
        "default_prompt = ChatPromptTemplate.from_template(\"{input}\")\n",
        "default_chain = LLMChain(llm=llm, prompt=default_prompt)"
      ]
    },
    {
      "cell_type": "code",
      "execution_count": 63,
      "id": "11b2e2ba",
      "metadata": {
        "id": "11b2e2ba"
      },
      "outputs": [],
      "source": [
        "MULTI_PROMPT_ROUTER_TEMPLATE = \"\"\"Given a raw text input to a \\\n",
        "language model select the model prompt best suited for the input. \\\n",
        "You will be given the names of the available prompts and a \\\n",
        "description of what the prompt is best suited for. \\\n",
        "You may also revise the original input if you think that revising\\\n",
        "it will ultimately lead to a better response from the language model.\n",
        "\n",
        "<< FORMATTING >>\n",
        "Return a markdown code snippet with a JSON object formatted to look like:\n",
        "```json\n",
        "{{{{\n",
        "    \"destination\": string \\ name of the prompt to use or \"DEFAULT\"\n",
        "    \"next_inputs\": string \\ a potentially modified version of the original input\n",
        "}}}}\n",
        "```\n",
        "\n",
        "REMEMBER: \"destination\" MUST be one of the candidate prompt \\\n",
        "names specified below OR it can be \"DEFAULT\" if the input is not\\\n",
        "well suited for any of the candidate prompts.\n",
        "REMEMBER: \"next_inputs\" can just be the original input \\\n",
        "if you don't think any modifications are needed.\n",
        "\n",
        "<< CANDIDATE PROMPTS >>\n",
        "{destinations}\n",
        "\n",
        "<< INPUT >>\n",
        "{{input}}\n",
        "\n",
        "<< OUTPUT (remember to include the ```json)>>\"\"\""
      ]
    },
    {
      "cell_type": "code",
      "execution_count": 64,
      "id": "1387109d",
      "metadata": {
        "id": "1387109d"
      },
      "outputs": [],
      "source": [
        "router_template = MULTI_PROMPT_ROUTER_TEMPLATE.format(\n",
        "    destinations=destinations_str\n",
        ")\n",
        "router_prompt = PromptTemplate(\n",
        "    template=router_template,\n",
        "    input_variables=[\"input\"],\n",
        "    output_parser=RouterOutputParser(),\n",
        ")\n",
        "\n",
        "router_chain = LLMRouterChain.from_llm(llm, router_prompt)"
      ]
    },
    {
      "cell_type": "code",
      "execution_count": 65,
      "id": "2fb7d560",
      "metadata": {
        "id": "2fb7d560"
      },
      "outputs": [],
      "source": [
        "chain = MultiPromptChain(router_chain=router_chain,\n",
        "                         destination_chains=destination_chains,\n",
        "                         default_chain=default_chain, verbose=True\n",
        "                        )"
      ]
    },
    {
      "cell_type": "code",
      "execution_count": 66,
      "id": "d86b2131",
      "metadata": {
        "colab": {
          "base_uri": "https://localhost:8080/",
          "height": 226
        },
        "id": "d86b2131",
        "outputId": "64067845-6666-4899-a705-3c6228b0cc8e"
      },
      "outputs": [
        {
          "output_type": "stream",
          "name": "stdout",
          "text": [
            "\n",
            "\n",
            "\u001b[1m> Entering new MultiPromptChain chain...\u001b[0m\n",
            "physics: {'input': 'What is black body radiation?'}\n",
            "\u001b[1m> Finished chain.\u001b[0m\n"
          ]
        },
        {
          "output_type": "execute_result",
          "data": {
            "text/plain": [
              "\"Black body radiation refers to the electromagnetic radiation emitted by an idealized physical body, known as a black body. A black body absorbs all incident electromagnetic radiation, regardless of frequency or angle of incidence. The radiation emitted by a black body is solely a function of its temperature.\\n\\nThe spectrum of black body radiation, which means the distribution of energy at different wavelengths, is determined by the body's temperature. The higher the temperature, the more total radiation emitted, and the peak of the radiation shifts to shorter wavelengths. This shift can be observed in everyday phenomena; for example, heating a metal rod in a fire will cause it to glow red and then white as it gets hotter.\\n\\nThe theoretical explanation of black body radiation was a significant challenge to classical physics, leading to the development of quantum mechanics. Max Planck, in 1900, proposed that energy is quantized and introduced the concept of the Planck constant to explain the observed spectrum, which was a fundamental step in the development of modern physics.\""
            ],
            "application/vnd.google.colaboratory.intrinsic+json": {
              "type": "string"
            }
          },
          "metadata": {},
          "execution_count": 66
        }
      ],
      "source": [
        "chain.run(\"What is black body radiation?\")"
      ]
    },
    {
      "cell_type": "code",
      "execution_count": 67,
      "id": "3b717379",
      "metadata": {
        "colab": {
          "base_uri": "https://localhost:8080/",
          "height": 139
        },
        "id": "3b717379",
        "outputId": "4c328ec6-d6d2-4baf-89ee-cbb256663f1d"
      },
      "outputs": [
        {
          "output_type": "stream",
          "name": "stdout",
          "text": [
            "\n",
            "\n",
            "\u001b[1m> Entering new MultiPromptChain chain...\u001b[0m\n",
            "math: {'input': 'what is 2 + 2'}\n",
            "\u001b[1m> Finished chain.\u001b[0m\n"
          ]
        },
        {
          "output_type": "execute_result",
          "data": {
            "text/plain": [
              "'Thank you for the kind words! To answer your question, \\\\(2 + 2\\\\) is simply the addition of the numbers 2 and 2. When these are added together, the result is \\\\(4\\\\).'"
            ],
            "application/vnd.google.colaboratory.intrinsic+json": {
              "type": "string"
            }
          },
          "metadata": {},
          "execution_count": 67
        }
      ],
      "source": [
        "chain.run(\"what is 2 + 2\")"
      ]
    },
    {
      "cell_type": "code",
      "execution_count": 68,
      "id": "29e5be01",
      "metadata": {
        "colab": {
          "base_uri": "https://localhost:8080/",
          "height": 226
        },
        "id": "29e5be01",
        "outputId": "4c70d36b-a78a-4337-b577-c3edbe3055fd"
      },
      "outputs": [
        {
          "output_type": "stream",
          "name": "stdout",
          "text": [
            "\n",
            "\n",
            "\u001b[1m> Entering new MultiPromptChain chain...\u001b[0m\n",
            "None: {'input': 'Why does every cell in our body contain DNA?'}\n",
            "\u001b[1m> Finished chain.\u001b[0m\n"
          ]
        },
        {
          "output_type": "execute_result",
          "data": {
            "text/plain": [
              "\"Every cell in our body contains DNA because it is essential for carrying the genetic instructions used in the growth, development, functioning, and reproduction of all known organisms and many viruses. DNA sequences are like biological codes or blueprints that provide detailed instructions on how to build and maintain an organism. Here’s a breakdown of why DNA is crucial in every cell:\\n\\n1. **Genetic Blueprint:** DNA contains the information needed to build the various proteins and molecules necessary for a cell to function properly. These proteins include enzymes, structural components of the cell, and signaling molecules, all of which are essential for the physiological and biochemical functions of life.\\n\\n2. **Cell Function and Regulation:** The sequences within DNA determine not only the structure and function of the proteins but also when, where, and how these proteins are to be made. This regulation is crucial for making sure that cells behave appropriately, grow correctly, and respond to their environment in a controlled manner.\\n\\n3. **Reproduction:** DNA is required for cells to divide and reproduce. During the process of cell division, DNA replicates itself, ensuring that each new cell receives a complete and accurate copy of the genome. This is critical for the maintenance of the organism from one generation to the next.\\n\\n4. **Hereditary Information:** DNA is the material that is passed from parents to offspring and contains the hereditary information that makes up the species. Traits passed from parents to children are coded in the sequences of the DNA.\\n\\n5. **Repair and Maintenance:** DNA also includes instructions for its own repair and maintenance. Cells have multiple mechanisms to repair damaged DNA, thereby preserving the cell's ability to function properly and reducing the risk of disease, such as cancer, which can arise from DNA damage.\\n\\nIn multicellular organisms like humans, while most cells contain the full complement of DNA, there are some exceptions. For example, mature red blood cells in humans do not contain DNA as they lose their nuclei during maturation to maximize space for hemoglobin. However, they initially develop from precursor cells that have a full DNA complement, which is crucial for their formation and function during the early stages of their development.\\n\\nThus, the presence of DNA in virtually every cell is fundamental to the life processes of growth, reproduction, and survival at both the cellular and organismal levels.\""
            ],
            "application/vnd.google.colaboratory.intrinsic+json": {
              "type": "string"
            }
          },
          "metadata": {},
          "execution_count": 68
        }
      ],
      "source": [
        "chain.run(\"Why does every cell in our body contain DNA?\")"
      ]
    },
    {
      "cell_type": "markdown",
      "id": "09e0c60b-7ae0-453e-9467-142d8dafee6e",
      "metadata": {
        "id": "09e0c60b-7ae0-453e-9467-142d8dafee6e"
      },
      "source": [
        "**Repeat the above at least once for different inputs and chains executions - Be creative!**"
      ]
    },
    {
      "cell_type": "code",
      "source": [
        "music_template = \"\"\"You are music freak. \\\n",
        "You are great at answering questions about music and musicians in a musical\\\n",
        "way that oftern cites 80's hits. \\\n",
        "\n",
        "Here is a question:\n",
        "{input}\"\"\"\n",
        "\n",
        "\n",
        "movies_template = \"\"\"You know your movies in and out \\\n",
        "You are great at making movie puns \\\n",
        "You are so good because you give some fun facts that are\n",
        "unknown to most peaopl\n",
        "\n",
        "Here is a question:\n",
        "{input}\"\"\"\n",
        "\n",
        "food_template = \"\"\"You are a very good cook. \\\n",
        "you havea a great international taste and love to do fusion dishes.\n",
        "you like to give out nice recipies and often send some youtube links for your favourite dishes\n",
        "\n",
        "Here is a question:\n",
        "{input}\"\"\"\n"
      ],
      "metadata": {
        "id": "k4wbihXL631D"
      },
      "id": "k4wbihXL631D",
      "execution_count": 71,
      "outputs": []
    },
    {
      "cell_type": "code",
      "source": [
        "prompt_infos = [\n",
        "    {\n",
        "        \"name\": \"music\",\n",
        "        \"description\": \"Good for answering questions about music\",\n",
        "        \"prompt_template\": music_template\n",
        "    },\n",
        "    {\n",
        "        \"name\": \"movies\",\n",
        "        \"description\": \"Good for answering movies questions\",\n",
        "        \"prompt_template\": movies_template\n",
        "    },\n",
        "    {\n",
        "        \"name\": \"food\",\n",
        "        \"description\": \"Good for answering food questions\",\n",
        "        \"prompt_template\": food_template\n",
        "    }\n",
        "]"
      ],
      "metadata": {
        "id": "P-yNxfkC8eKC"
      },
      "id": "P-yNxfkC8eKC",
      "execution_count": 76,
      "outputs": []
    },
    {
      "cell_type": "code",
      "source": [
        "destination_chains = {}\n",
        "for p_info in prompt_infos:\n",
        "    name = p_info[\"name\"]\n",
        "    prompt_template = p_info[\"prompt_template\"]\n",
        "    prompt = ChatPromptTemplate.from_template(template=prompt_template)\n",
        "    chain = LLMChain(llm=llm, prompt=prompt)\n",
        "    destination_chains[name] = chain\n",
        "\n",
        "destinations = [f\"{p['name']}: {p['description']}\" for p in prompt_infos]\n",
        "destinations_str = \"\\n\".join(destinations)\n",
        "\n",
        "default_prompt = ChatPromptTemplate.from_template(\"{input}\")\n",
        "default_chain = LLMChain(llm=llm, prompt=default_prompt)\n",
        "\n",
        "MULTI_PROMPT_ROUTER_TEMPLATE = \"\"\"Given a raw text input to a \\\n",
        "language model select the model prompt best suited for the input. \\\n",
        "You will be given the names of the available prompts and a \\\n",
        "description of what the prompt is best suited for. \\\n",
        "You may also revise the original input if you think that revising\\\n",
        "it will ultimately lead to a better response from the language model.\n",
        "\n",
        "<< FORMATTING >>\n",
        "Return a markdown code snippet with a JSON object formatted to look like:\n",
        "```json\n",
        "{{{{\n",
        "    \"destination\": string \\ name of the prompt to use or \"DEFAULT\"\n",
        "    \"next_inputs\": string \\ a potentially modified version of the original input\n",
        "}}}}\n",
        "```\n",
        "\n",
        "REMEMBER: \"destination\" MUST be one of the candidate prompt \\\n",
        "names specified below OR it can be \"DEFAULT\" if the input is not\\\n",
        "well suited for any of the candidate prompts.\n",
        "REMEMBER: \"next_inputs\" can just be the original input \\\n",
        "if you don't think any modifications are needed.\n",
        "\n",
        "<< CANDIDATE PROMPTS >>\n",
        "{destinations}\n",
        "\n",
        "<< INPUT >>\n",
        "{{input}}\n",
        "\n",
        "<< OUTPUT (remember to include the ```json)>>\"\"\""
      ],
      "metadata": {
        "id": "H1FSuHpB88q1"
      },
      "id": "H1FSuHpB88q1",
      "execution_count": 77,
      "outputs": []
    },
    {
      "cell_type": "code",
      "source": [
        "router_template = MULTI_PROMPT_ROUTER_TEMPLATE.format(\n",
        "    destinations=destinations_str\n",
        ")\n",
        "router_prompt = PromptTemplate(\n",
        "    template=router_template,\n",
        "    input_variables=[\"input\"],\n",
        "    output_parser=RouterOutputParser(),\n",
        ")\n",
        "\n",
        "router_chain = LLMRouterChain.from_llm(llm, router_prompt)"
      ],
      "metadata": {
        "id": "YWdKCQ8L633h"
      },
      "id": "YWdKCQ8L633h",
      "execution_count": 78,
      "outputs": []
    },
    {
      "cell_type": "code",
      "source": [
        "chain = MultiPromptChain(router_chain=router_chain,\n",
        "                         destination_chains=destination_chains,\n",
        "                         default_chain=default_chain, verbose=True\n",
        "                        )"
      ],
      "metadata": {
        "id": "kXE99XGC635q"
      },
      "id": "kXE99XGC635q",
      "execution_count": 79,
      "outputs": []
    },
    {
      "cell_type": "code",
      "source": [
        "chain.run(\"another one bites the dust?\")"
      ],
      "metadata": {
        "colab": {
          "base_uri": "https://localhost:8080/",
          "height": 226
        },
        "id": "0BNV7Buq638Q",
        "outputId": "b54e9ad3-77eb-44d5-d0c5-df12673199c7"
      },
      "id": "0BNV7Buq638Q",
      "execution_count": 80,
      "outputs": [
        {
          "output_type": "stream",
          "name": "stdout",
          "text": [
            "\n",
            "\n",
            "\u001b[1m> Entering new MultiPromptChain chain...\u001b[0m\n",
            "music: {'input': \"What is the song 'Another One Bites the Dust' about?\"}\n",
            "\u001b[1m> Finished chain.\u001b[0m\n"
          ]
        },
        {
          "output_type": "execute_result",
          "data": {
            "text/plain": [
              "'\"Another One Bites the Dust,\" by Queen, grooves to a beat that\\'s hard to resist, and while its funky bass line might get you on your feet, the lyrics might make you ponder a bit. The song, released in 1980 on their album \"The Game,\" packs a punch with its repetitive, catchy chorus and striking bass riff by John Deacon.\\n\\nContrary to its upbeat musical arrangement, the song’s theme dives into darker territories, exploring themes of defeat and survival. Although interpretations can vary, with some hearing echoes of confrontations and violent outcomes (\"Out of the doorway the bullets rip / To the sound of the beat\"), it can also be seen as a figurative expression of overcoming challenges or competitors—one by one succumbing or \\'biting the dust\\' as the protagonist moves ahead.\\n\\nThe song\\'s vibe and narrative style somewhat leave the exact scenario to the listener’s imagination, but it’s clear why this track became a smash hit: it combines Queen\\'s signature rock flair with irresistible disco beats, creating an anthem that resonates with the triumphs and setbacks of life. Just as Freddie Mercury belts, it makes you want to either face the challenges head-on or dance them away under the disco lights!'"
            ],
            "application/vnd.google.colaboratory.intrinsic+json": {
              "type": "string"
            }
          },
          "metadata": {},
          "execution_count": 80
        }
      ]
    },
    {
      "cell_type": "code",
      "source": [
        "chain.run(\"tell me about falafel\")"
      ],
      "metadata": {
        "colab": {
          "base_uri": "https://localhost:8080/",
          "height": 226
        },
        "id": "cjCOT94t8NX0",
        "outputId": "324d70e8-a07f-4d06-92e2-64881e0467ba"
      },
      "id": "cjCOT94t8NX0",
      "execution_count": 81,
      "outputs": [
        {
          "output_type": "stream",
          "name": "stdout",
          "text": [
            "\n",
            "\n",
            "\u001b[1m> Entering new MultiPromptChain chain...\u001b[0m\n",
            "food: {'input': 'tell me about falafel'}\n",
            "\u001b[1m> Finished chain.\u001b[0m\n"
          ]
        },
        {
          "output_type": "execute_result",
          "data": {
            "text/plain": [
              "\"Thank, you for recognizing my passion for cooking and international flavors! Falafel is a delicious and popular Middle Eastern dish that's loved worldwide. It's traditionally made from ground chickpeas or fava beans, mixed with a variety of herbs and spices such as parsley, cilantro, cumin, and coriander. The mixture is then shaped into small balls or patties and deep-fried until golden brown, resulting in a crispy exterior with a soft, flavorful interior.\\n\\nFalafel is often served in a pita or flatbread with salads, pickled vegetables, hot sauce, and drizzled with tahini-based sauces. It can also be served over a bed of greens as a salad topping or as an appetizer with various dips like hummus and tzatziki.\\n\\nFor a fusion twist, you could try incorporating different herbs and spices into the falafel mix or serve them with a sauce inspired by another cuisine—like a curry mayo or a spicy Latin American salsa.\\n\\nIf you're interested in making falafel, there are plenty of great recipes and video tutorials online that can guide you through the process. Here’s a YouTube link to a falafel recipe that I find really straightforward and tasty: [Insert YouTube link here]. Remember, you can always add your personal touch to the recipe to suit your taste!\\n\\nEnjoy your culinary adventure with falafel!\""
            ],
            "application/vnd.google.colaboratory.intrinsic+json": {
              "type": "string"
            }
          },
          "metadata": {},
          "execution_count": 81
        }
      ]
    },
    {
      "cell_type": "code",
      "source": [
        "chain.run(\"I'm gonna become a godfather, what are the best impressions I can do?\")"
      ],
      "metadata": {
        "colab": {
          "base_uri": "https://localhost:8080/",
          "height": 400
        },
        "id": "9hTWgGSK9PZK",
        "outputId": "b0989e68-bbed-428e-cb8d-a10db0669880"
      },
      "id": "9hTWgGSK9PZK",
      "execution_count": 82,
      "outputs": [
        {
          "output_type": "stream",
          "name": "stdout",
          "text": [
            "\n",
            "\n",
            "\u001b[1m> Entering new MultiPromptChain chain...\u001b[0m\n",
            "movies: {'input': \"What are some iconic impressions or quotes from 'The Godfather' movie that I can perform?\"}\n",
            "\u001b[1m> Finished chain.\u001b[0m\n"
          ]
        },
        {
          "output_type": "execute_result",
          "data": {
            "text/plain": [
              "'\"The Godfather\" is a treasure trove of iconic lines and impressions that are instantly recognizable and perfect for performance. Here are some of the most famous quotes from the movie that you can use:\\n\\n1. **\"I\\'m going to make him an offer he can\\'t refuse.\"** - Don Vito Corleone (Marlon Brando)\\n   - This is perhaps the most famous line from the movie. It encapsulates the mix of menace and allure that the Godfather himself exudes. When delivering this line, remember to adopt a raspy voice like Brando’s and maintain a calm, authoritative demeanor.\\n\\n2. **\"It\\'s not personal, Sonny. It\\'s strictly business.\"** - Michael Corleone (Al Pacino)\\n   - A line that perfectly captures the cold, calculated approach of the Corleone family to the business of organized crime. When saying this, adopt a serious, focused tone.\\n\\n3. **\"Leave the gun. Take the cannoli.\"** - Clemenza (Richard S. Castellano)\\n   - This line mixes dark humor with the grim business of the Mafia. It\\'s delivered after a hit has been carried out, showcasing the casual nature with which violence is treated. The line is both chilling and oddly comical, making it a memorable one to perform.\\n\\n4. **\"Luca Brasi sleeps with the fishes.\"** - Luca Brasi (Lenny Montana)\\n   - An iconic way to say someone has been killed and disposed of, this line is tied to one of the memorable scenes of Mafia-style execution. It\\'s a grave line that reflects the brutal finality of mob justice.\\n\\n5. **\"You can act like a man! What\\'s the matter with you?\"** - Don Vito Corleone (Marlon Brando)\\n   - This is given during a moment when Don Vito chastises Johnny Fontane about his Hollywood problems. It’s delivered with a mix of disappointment and tough love. Mimic Brando\\'s voice and gestures for full effect.\\n\\n6. **\"I have a sentimental weakness for my children and I spoil them, as you can see. They talk when they should listen.\"** - Don Vito Corleone\\n   - Another line that showcases Don Vito’s character complexity, blending his roles as both a feared Mafia boss and a loving father.\\n\\nWhen performing these lines, focus on the character’s specific voice and body language. For Don Vito, a softer, raspy voice with a deliberate, slow style of speaking works well. Michael’s lines are best delivered with a calm, cool demeanor that hides the underlying intensity of his character. Remember, part of the magic lies in the delivery, so observing the characters\\' mannerisms in the movie can be very beneficial.\\n\\nThese quotes are not only memorable due to their content but also due to the outstanding performances of the actors, so have fun and embrace the role you\\'re playing!'"
            ],
            "application/vnd.google.colaboratory.intrinsic+json": {
              "type": "string"
            }
          },
          "metadata": {},
          "execution_count": 82
        }
      ]
    },
    {
      "cell_type": "code",
      "source": [
        "chain.run(\"danny devito\")"
      ],
      "metadata": {
        "colab": {
          "base_uri": "https://localhost:8080/",
          "height": 226
        },
        "id": "D_Tchq8A9PWw",
        "outputId": "85cf9409-8ee9-4934-9adc-84efbbca7b11"
      },
      "id": "D_Tchq8A9PWw",
      "execution_count": 83,
      "outputs": [
        {
          "output_type": "stream",
          "name": "stdout",
          "text": [
            "\n",
            "\n",
            "\u001b[1m> Entering new MultiPromptChain chain...\u001b[0m\n",
            "None: {'input': 'danny devito'}\n",
            "\u001b[1m> Finished chain.\u001b[0m\n"
          ]
        },
        {
          "output_type": "execute_result",
          "data": {
            "text/plain": [
              "'Danny DeVito is an American actor, producer, and director, known for his distinctive raspy voice, short stature, and comedic talent. Born on November 17, 1944, in Neptune Township, New Jersey, DeVito has had a distinguished career in film and television.\\n\\nOne of DeVito\\'s most notable roles was as Louie De Palma in the television series \"Taxi,\" which aired from 1978 to 1983. This role earned him a Golden Globe Award and an Emmy Award. He is also well-known for his role as Frank Reynolds on the FX and FXX sitcom \"It\\'s Always Sunny in Philadelphia,\" which he joined in its second season in 2006.\\n\\nIn addition to his work in television, DeVito has appeared in numerous films, including \"One Flew Over the Cuckoo\\'s Nest\" (1975), \"Throw Momma from the Train\" (1987), \"Twins\" (1988), \"Batman Returns\" (1992), where he played the iconic villain The Penguin, and \"Matilda\" (1996), which he also directed.\\n\\nDeVito\\'s directing credits also include \"The War of the Roses\" (1989) and \"Hoffa\" (1992). He has produced several films through his production company, Jersey Films, including \"Pulp Fiction\" (1994) and \"Erin Brockovich\" (2000), highlighting his versatility and influence in the entertainment industry.\\n\\nIn addition to his entertainment career, DeVito is recognized for his political activism and his support of various charitable causes. Danny DeVito continues to be an influential figure in Hollywood, both on-screen and behind the scenes.'"
            ],
            "application/vnd.google.colaboratory.intrinsic+json": {
              "type": "string"
            }
          },
          "metadata": {},
          "execution_count": 83
        }
      ]
    },
    {
      "cell_type": "code",
      "source": [],
      "metadata": {
        "id": "ghjE81qv-Ct9"
      },
      "id": "ghjE81qv-Ct9",
      "execution_count": null,
      "outputs": []
    }
  ],
  "metadata": {
    "kernelspec": {
      "display_name": "Python 3 (ipykernel)",
      "language": "python",
      "name": "python3"
    },
    "language_info": {
      "codemirror_mode": {
        "name": "ipython",
        "version": 3
      },
      "file_extension": ".py",
      "mimetype": "text/x-python",
      "name": "python",
      "nbconvert_exporter": "python",
      "pygments_lexer": "ipython3",
      "version": "3.11.8"
    },
    "colab": {
      "provenance": []
    }
  },
  "nbformat": 4,
  "nbformat_minor": 5
}